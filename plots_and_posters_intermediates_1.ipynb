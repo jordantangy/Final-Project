{
  "nbformat": 4,
  "nbformat_minor": 0,
  "metadata": {
    "colab": {
      "name": "plots_and_posters_intermediates_1.ipynb",
      "provenance": [],
      "collapsed_sections": [],
      "authorship_tag": "ABX9TyM/eLNGyxdJ7Pv6tAcc3NCf",
      "include_colab_link": true
    },
    "kernelspec": {
      "name": "python3",
      "display_name": "Python 3"
    },
    "language_info": {
      "name": "python"
    }
  },
  "cells": [
    {
      "cell_type": "markdown",
      "metadata": {
        "id": "view-in-github",
        "colab_type": "text"
      },
      "source": [
        "<a href=\"https://colab.research.google.com/github/jordantangy/Final-Project/blob/main/plots_and_posters_intermediates_1.ipynb\" target=\"_parent\"><img src=\"https://colab.research.google.com/assets/colab-badge.svg\" alt=\"Open In Colab\"/></a>"
      ]
    },
    {
      "cell_type": "code",
      "metadata": {
        "colab": {
          "base_uri": "https://localhost:8080/"
        },
        "id": "0w0ouiVkLNMR",
        "outputId": "45b8d044-0f93-45f7-dfaf-69b1ea6666b4"
      },
      "source": [
        "!pip install tensorflow"
      ],
      "execution_count": 1,
      "outputs": [
        {
          "output_type": "stream",
          "text": [
            "Requirement already satisfied: tensorflow in /usr/local/lib/python3.7/dist-packages (2.5.0)\n",
            "Requirement already satisfied: absl-py~=0.10 in /usr/local/lib/python3.7/dist-packages (from tensorflow) (0.12.0)\n",
            "Requirement already satisfied: termcolor~=1.1.0 in /usr/local/lib/python3.7/dist-packages (from tensorflow) (1.1.0)\n",
            "Requirement already satisfied: tensorboard~=2.5 in /usr/local/lib/python3.7/dist-packages (from tensorflow) (2.5.0)\n",
            "Requirement already satisfied: astunparse~=1.6.3 in /usr/local/lib/python3.7/dist-packages (from tensorflow) (1.6.3)\n",
            "Requirement already satisfied: wheel~=0.35 in /usr/local/lib/python3.7/dist-packages (from tensorflow) (0.36.2)\n",
            "Requirement already satisfied: flatbuffers~=1.12.0 in /usr/local/lib/python3.7/dist-packages (from tensorflow) (1.12)\n",
            "Requirement already satisfied: grpcio~=1.34.0 in /usr/local/lib/python3.7/dist-packages (from tensorflow) (1.34.1)\n",
            "Requirement already satisfied: keras-preprocessing~=1.1.2 in /usr/local/lib/python3.7/dist-packages (from tensorflow) (1.1.2)\n",
            "Requirement already satisfied: h5py~=3.1.0 in /usr/local/lib/python3.7/dist-packages (from tensorflow) (3.1.0)\n",
            "Requirement already satisfied: numpy~=1.19.2 in /usr/local/lib/python3.7/dist-packages (from tensorflow) (1.19.5)\n",
            "Requirement already satisfied: gast==0.4.0 in /usr/local/lib/python3.7/dist-packages (from tensorflow) (0.4.0)\n",
            "Requirement already satisfied: protobuf>=3.9.2 in /usr/local/lib/python3.7/dist-packages (from tensorflow) (3.17.3)\n",
            "Requirement already satisfied: typing-extensions~=3.7.4 in /usr/local/lib/python3.7/dist-packages (from tensorflow) (3.7.4.3)\n",
            "Requirement already satisfied: tensorflow-estimator<2.6.0,>=2.5.0rc0 in /usr/local/lib/python3.7/dist-packages (from tensorflow) (2.5.0)\n",
            "Requirement already satisfied: six~=1.15.0 in /usr/local/lib/python3.7/dist-packages (from tensorflow) (1.15.0)\n",
            "Requirement already satisfied: keras-nightly~=2.5.0.dev in /usr/local/lib/python3.7/dist-packages (from tensorflow) (2.5.0.dev2021032900)\n",
            "Requirement already satisfied: google-pasta~=0.2 in /usr/local/lib/python3.7/dist-packages (from tensorflow) (0.2.0)\n",
            "Requirement already satisfied: opt-einsum~=3.3.0 in /usr/local/lib/python3.7/dist-packages (from tensorflow) (3.3.0)\n",
            "Requirement already satisfied: wrapt~=1.12.1 in /usr/local/lib/python3.7/dist-packages (from tensorflow) (1.12.1)\n",
            "Requirement already satisfied: cached-property in /usr/local/lib/python3.7/dist-packages (from h5py~=3.1.0->tensorflow) (1.5.2)\n",
            "Requirement already satisfied: werkzeug>=0.11.15 in /usr/local/lib/python3.7/dist-packages (from tensorboard~=2.5->tensorflow) (1.0.1)\n",
            "Requirement already satisfied: markdown>=2.6.8 in /usr/local/lib/python3.7/dist-packages (from tensorboard~=2.5->tensorflow) (3.3.4)\n",
            "Requirement already satisfied: google-auth<2,>=1.6.3 in /usr/local/lib/python3.7/dist-packages (from tensorboard~=2.5->tensorflow) (1.32.1)\n",
            "Requirement already satisfied: setuptools>=41.0.0 in /usr/local/lib/python3.7/dist-packages (from tensorboard~=2.5->tensorflow) (57.2.0)\n",
            "Requirement already satisfied: tensorboard-data-server<0.7.0,>=0.6.0 in /usr/local/lib/python3.7/dist-packages (from tensorboard~=2.5->tensorflow) (0.6.1)\n",
            "Requirement already satisfied: tensorboard-plugin-wit>=1.6.0 in /usr/local/lib/python3.7/dist-packages (from tensorboard~=2.5->tensorflow) (1.8.0)\n",
            "Requirement already satisfied: requests<3,>=2.21.0 in /usr/local/lib/python3.7/dist-packages (from tensorboard~=2.5->tensorflow) (2.23.0)\n",
            "Requirement already satisfied: google-auth-oauthlib<0.5,>=0.4.1 in /usr/local/lib/python3.7/dist-packages (from tensorboard~=2.5->tensorflow) (0.4.4)\n",
            "Requirement already satisfied: rsa<5,>=3.1.4 in /usr/local/lib/python3.7/dist-packages (from google-auth<2,>=1.6.3->tensorboard~=2.5->tensorflow) (4.7.2)\n",
            "Requirement already satisfied: pyasn1-modules>=0.2.1 in /usr/local/lib/python3.7/dist-packages (from google-auth<2,>=1.6.3->tensorboard~=2.5->tensorflow) (0.2.8)\n",
            "Requirement already satisfied: cachetools<5.0,>=2.0.0 in /usr/local/lib/python3.7/dist-packages (from google-auth<2,>=1.6.3->tensorboard~=2.5->tensorflow) (4.2.2)\n",
            "Requirement already satisfied: requests-oauthlib>=0.7.0 in /usr/local/lib/python3.7/dist-packages (from google-auth-oauthlib<0.5,>=0.4.1->tensorboard~=2.5->tensorflow) (1.3.0)\n",
            "Requirement already satisfied: importlib-metadata in /usr/local/lib/python3.7/dist-packages (from markdown>=2.6.8->tensorboard~=2.5->tensorflow) (4.6.1)\n",
            "Requirement already satisfied: pyasn1<0.5.0,>=0.4.6 in /usr/local/lib/python3.7/dist-packages (from pyasn1-modules>=0.2.1->google-auth<2,>=1.6.3->tensorboard~=2.5->tensorflow) (0.4.8)\n",
            "Requirement already satisfied: idna<3,>=2.5 in /usr/local/lib/python3.7/dist-packages (from requests<3,>=2.21.0->tensorboard~=2.5->tensorflow) (2.10)\n",
            "Requirement already satisfied: certifi>=2017.4.17 in /usr/local/lib/python3.7/dist-packages (from requests<3,>=2.21.0->tensorboard~=2.5->tensorflow) (2021.5.30)\n",
            "Requirement already satisfied: urllib3!=1.25.0,!=1.25.1,<1.26,>=1.21.1 in /usr/local/lib/python3.7/dist-packages (from requests<3,>=2.21.0->tensorboard~=2.5->tensorflow) (1.24.3)\n",
            "Requirement already satisfied: chardet<4,>=3.0.2 in /usr/local/lib/python3.7/dist-packages (from requests<3,>=2.21.0->tensorboard~=2.5->tensorflow) (3.0.4)\n",
            "Requirement already satisfied: oauthlib>=3.0.0 in /usr/local/lib/python3.7/dist-packages (from requests-oauthlib>=0.7.0->google-auth-oauthlib<0.5,>=0.4.1->tensorboard~=2.5->tensorflow) (3.1.1)\n",
            "Requirement already satisfied: zipp>=0.5 in /usr/local/lib/python3.7/dist-packages (from importlib-metadata->markdown>=2.6.8->tensorboard~=2.5->tensorflow) (3.5.0)\n"
          ],
          "name": "stdout"
        }
      ]
    },
    {
      "cell_type": "code",
      "metadata": {
        "id": "wlcXi1YbD-9t",
        "colab": {
          "base_uri": "https://localhost:8080/"
        },
        "outputId": "5880c109-4876-42a1-b8b8-8e0fa8f07ac9"
      },
      "source": [
        "from google.colab import drive\n",
        "drive.mount('/content/drive',force_remount=False)"
      ],
      "execution_count": 2,
      "outputs": [
        {
          "output_type": "stream",
          "text": [
            "Drive already mounted at /content/drive; to attempt to forcibly remount, call drive.mount(\"/content/drive\", force_remount=True).\n"
          ],
          "name": "stdout"
        }
      ]
    },
    {
      "cell_type": "code",
      "metadata": {
        "id": "-E9hdq3UF3hi",
        "colab": {
          "base_uri": "https://localhost:8080/"
        },
        "outputId": "a98e00d9-ec90-4c34-f22e-8a8d2d37b64c"
      },
      "source": [
        "import pandas as pd\n",
        "import numpy as np\n",
        "import csv\n",
        "\n",
        "data = pd.read_csv('drive/MyDrive/Final Project/movie_plots_by_poster.csv')\n",
        "truncat = data[:5]\n",
        "truncat.values[0][4]"
      ],
      "execution_count": 3,
      "outputs": [
        {
          "output_type": "execute_result",
          "data": {
            "text/plain": [
              "7.4"
            ]
          },
          "metadata": {
            "tags": []
          },
          "execution_count": 3
        }
      ]
    },
    {
      "cell_type": "code",
      "metadata": {
        "id": "ACLAvci6F8c2"
      },
      "source": [
        "import tensorflow_hub as hub\n",
        "import tensorflow as tf\n",
        "import torch\n",
        "\n",
        "plot_model = \"https://tfhub.dev/google/universal-sentence-encoder/4\"\n",
        "hub_layer = hub.KerasLayer(plot_model, input_shape=[], dtype=tf.string, trainable=True)"
      ],
      "execution_count": 4,
      "outputs": []
    },
    {
      "cell_type": "code",
      "metadata": {
        "id": "5_79zjZPF_Xu",
        "colab": {
          "base_uri": "https://localhost:8080/"
        },
        "outputId": "a53fc187-6ebe-4690-f413-8b9ca3bab948"
      },
      "source": [
        "import numpy as np\n",
        "\n",
        "import tensorflow as tf\n",
        "import tensorflow_hub as hub\n",
        "import tensorflow_datasets as tfds\n",
        "\n",
        "import matplotlib.pyplot as plt\n",
        "\n",
        "print(\"Version: \", tf.__version__)\n",
        "print(\"Eager mode: \", tf.executing_eagerly())\n",
        "print(\"Hub version: \", hub.__version__)\n",
        "print(\"GPU is\", \"available\" if tf.config.list_physical_devices('GPU') else \"NOT AVAILABLE\")"
      ],
      "execution_count": 5,
      "outputs": [
        {
          "output_type": "stream",
          "text": [
            "Version:  2.5.0\n",
            "Eager mode:  True\n",
            "Hub version:  0.12.0\n",
            "GPU is NOT AVAILABLE\n"
          ],
          "name": "stdout"
        }
      ]
    },
    {
      "cell_type": "code",
      "metadata": {
        "id": "93LrZtOkGCq3"
      },
      "source": [
        "x_plots = truncat.drop(['id','poster','title','year','rating','genre','action','adventure','animation','comedy','crime','drama','fantasy','horror','mystery','romance','sci-fi','short','thriller'], axis = 1)\n",
        "x_plots = x_plots.to_numpy()"
      ],
      "execution_count": 6,
      "outputs": []
    },
    {
      "cell_type": "code",
      "metadata": {
        "id": "iLw2tIdlGGhw",
        "colab": {
          "base_uri": "https://localhost:8080/"
        },
        "outputId": "51f8b52c-bba8-490b-a351-4476e71a587c"
      },
      "source": [
        "plot_model = tf.keras.Sequential()\n",
        "plot_model.add(hub_layer)\n",
        "plot_model.add(tf.keras.layers.Dense(16, activation='relu'))\n",
        "plot_model.add(tf.keras.layers.Dense(13))\n",
        "\n",
        "plot_model.summary()"
      ],
      "execution_count": 7,
      "outputs": [
        {
          "output_type": "stream",
          "text": [
            "Model: \"sequential\"\n",
            "_________________________________________________________________\n",
            "Layer (type)                 Output Shape              Param #   \n",
            "=================================================================\n",
            "keras_layer (KerasLayer)     (None, 512)               256797824 \n",
            "_________________________________________________________________\n",
            "dense (Dense)                (None, 16)                8208      \n",
            "_________________________________________________________________\n",
            "dense_1 (Dense)              (None, 13)                221       \n",
            "=================================================================\n",
            "Total params: 256,806,253\n",
            "Trainable params: 256,806,253\n",
            "Non-trainable params: 0\n",
            "_________________________________________________________________\n"
          ],
          "name": "stdout"
        }
      ]
    },
    {
      "cell_type": "code",
      "metadata": {
        "id": "aDIe56ZXGJRs",
        "colab": {
          "base_uri": "https://localhost:8080/"
        },
        "outputId": "0f1b325b-23fd-4ee4-986e-724016fde413"
      },
      "source": [
        "from tensorflow import keras\n",
        "from tensorflow.keras import layers\n",
        "\n",
        "layer_name = 'keras_layer'\n",
        "intermediate_layer_model = keras.Model(inputs=plot_model.input,\n",
        "                                       outputs=plot_model.get_layer(layer_name).output)\n",
        "intermediate_output = intermediate_layer_model(x_plots)\n",
        "print(intermediate_output)"
      ],
      "execution_count": 8,
      "outputs": [
        {
          "output_type": "stream",
          "text": [
            "tf.Tensor(\n",
            "[[ 0.03207485 -0.05942298  0.01657976 ... -0.03323282  0.04054418\n",
            "   0.04799057]\n",
            " [-0.07227465  0.07675827  0.01973101 ...  0.00130296  0.0689291\n",
            "   0.02174744]\n",
            " [-0.01638548  0.01023046  0.01114467 ...  0.03901434 -0.0183612\n",
            "   0.05421558]\n",
            " [-0.04394719  0.04652793  0.00542503 ... -0.0432737   0.09255808\n",
            "   0.0013464 ]\n",
            " [ 0.04149799 -0.06425259 -0.03056165 ... -0.02624768  0.06745882\n",
            "  -0.07507793]], shape=(5, 512), dtype=float32)\n"
          ],
          "name": "stdout"
        }
      ]
    },
    {
      "cell_type": "code",
      "metadata": {
        "id": "wQmwjoB5GMCb",
        "colab": {
          "base_uri": "https://localhost:8080/"
        },
        "outputId": "94729f24-3db8-4b97-9732-aa49f1d625ce"
      },
      "source": [
        "for idx in range(len(plot_model.layers)):\n",
        "  print(plot_model.get_layer(index = idx).name)"
      ],
      "execution_count": 9,
      "outputs": [
        {
          "output_type": "stream",
          "text": [
            "keras_layer\n",
            "dense\n",
            "dense_1\n"
          ],
          "name": "stdout"
        }
      ]
    },
    {
      "cell_type": "code",
      "metadata": {
        "id": "smN7qE9BMv_B"
      },
      "source": [
        "plot_array = intermediate_output.numpy()\n",
        "#print(poster_array[0])"
      ],
      "execution_count": 10,
      "outputs": []
    },
    {
      "cell_type": "code",
      "metadata": {
        "id": "GVfBFj5GJ8sy"
      },
      "source": [
        "#!pip install tensorflow==2.0.0-rc0"
      ],
      "execution_count": 11,
      "outputs": []
    },
    {
      "cell_type": "code",
      "metadata": {
        "id": "z8kYwC24J8Ze"
      },
      "source": [
        "import tensorflow as tf\n",
        "from tensorflow.keras import Sequential\n",
        "from tensorflow.keras.layers import Flatten, Dense, Dropout, BatchNormalization, Conv2D, MaxPool2D\n",
        "from tensorflow.keras.optimizers import Adam\n",
        "from tensorflow.keras.preprocessing import image\n",
        "import numpy as np\n",
        "import pandas as pd\n",
        "import matplotlib.pyplot as plt\n",
        "from sklearn.model_selection import train_test_split\n",
        "from tqdm import tqdm"
      ],
      "execution_count": 12,
      "outputs": []
    },
    {
      "cell_type": "code",
      "metadata": {
        "id": "LgXxoFVEGWDN",
        "colab": {
          "base_uri": "https://localhost:8080/",
          "height": 739
        },
        "outputId": "eca0aae8-efba-4141-f358-e88ab3578485"
      },
      "source": [
        "data = pd.read_csv('/content/drive/MyDrive/Final Project/duplicate_free_41K.csv')\n",
        "truncat = data[:30000]\n",
        "truncat"
      ],
      "execution_count": 13,
      "outputs": [
        {
          "output_type": "execute_result",
          "data": {
            "text/html": [
              "<div>\n",
              "<style scoped>\n",
              "    .dataframe tbody tr th:only-of-type {\n",
              "        vertical-align: middle;\n",
              "    }\n",
              "\n",
              "    .dataframe tbody tr th {\n",
              "        vertical-align: top;\n",
              "    }\n",
              "\n",
              "    .dataframe thead th {\n",
              "        text-align: right;\n",
              "    }\n",
              "</style>\n",
              "<table border=\"1\" class=\"dataframe\">\n",
              "  <thead>\n",
              "    <tr style=\"text-align: right;\">\n",
              "      <th></th>\n",
              "      <th>id</th>\n",
              "      <th>poster</th>\n",
              "      <th>title</th>\n",
              "      <th>year</th>\n",
              "      <th>rating</th>\n",
              "      <th>genre</th>\n",
              "      <th>action</th>\n",
              "      <th>adventure</th>\n",
              "      <th>animation</th>\n",
              "      <th>comedy</th>\n",
              "      <th>crime</th>\n",
              "      <th>drama</th>\n",
              "      <th>fantasy</th>\n",
              "      <th>horror</th>\n",
              "      <th>mystery</th>\n",
              "      <th>romance</th>\n",
              "      <th>sci-fi</th>\n",
              "      <th>short</th>\n",
              "      <th>thriller</th>\n",
              "    </tr>\n",
              "  </thead>\n",
              "  <tbody>\n",
              "    <tr>\n",
              "      <th>0</th>\n",
              "      <td>0</td>\n",
              "      <td>https://m.media-amazon.com/images/M/MV5BNDM0ND...</td>\n",
              "      <td>Construction</td>\n",
              "      <td>2021</td>\n",
              "      <td>7.4</td>\n",
              "      <td>comedy, romance</td>\n",
              "      <td>0</td>\n",
              "      <td>0</td>\n",
              "      <td>0</td>\n",
              "      <td>1</td>\n",
              "      <td>0</td>\n",
              "      <td>0</td>\n",
              "      <td>0</td>\n",
              "      <td>0</td>\n",
              "      <td>0</td>\n",
              "      <td>1</td>\n",
              "      <td>0</td>\n",
              "      <td>0</td>\n",
              "      <td>0</td>\n",
              "    </tr>\n",
              "    <tr>\n",
              "      <th>1</th>\n",
              "      <td>1</td>\n",
              "      <td>https://m.media-amazon.com/images/M/MV5BNTgyZD...</td>\n",
              "      <td>RED</td>\n",
              "      <td>2020</td>\n",
              "      <td>10.0</td>\n",
              "      <td>horror</td>\n",
              "      <td>0</td>\n",
              "      <td>0</td>\n",
              "      <td>0</td>\n",
              "      <td>0</td>\n",
              "      <td>0</td>\n",
              "      <td>0</td>\n",
              "      <td>0</td>\n",
              "      <td>1</td>\n",
              "      <td>0</td>\n",
              "      <td>0</td>\n",
              "      <td>0</td>\n",
              "      <td>0</td>\n",
              "      <td>0</td>\n",
              "    </tr>\n",
              "    <tr>\n",
              "      <th>2</th>\n",
              "      <td>2</td>\n",
              "      <td>https://m.media-amazon.com/images/M/MV5BNGQzMT...</td>\n",
              "      <td>Huldra and Photographer</td>\n",
              "      <td>2020</td>\n",
              "      <td>10.0</td>\n",
              "      <td>short, fantasy, horror</td>\n",
              "      <td>0</td>\n",
              "      <td>0</td>\n",
              "      <td>0</td>\n",
              "      <td>0</td>\n",
              "      <td>0</td>\n",
              "      <td>0</td>\n",
              "      <td>1</td>\n",
              "      <td>1</td>\n",
              "      <td>0</td>\n",
              "      <td>0</td>\n",
              "      <td>0</td>\n",
              "      <td>1</td>\n",
              "      <td>0</td>\n",
              "    </tr>\n",
              "    <tr>\n",
              "      <th>3</th>\n",
              "      <td>3</td>\n",
              "      <td>https://m.media-amazon.com/images/M/MV5BMWE2Yz...</td>\n",
              "      <td>Anti-dirt</td>\n",
              "      <td>2020</td>\n",
              "      <td>10.0</td>\n",
              "      <td>short, action, comedy</td>\n",
              "      <td>1</td>\n",
              "      <td>0</td>\n",
              "      <td>0</td>\n",
              "      <td>1</td>\n",
              "      <td>0</td>\n",
              "      <td>0</td>\n",
              "      <td>0</td>\n",
              "      <td>0</td>\n",
              "      <td>0</td>\n",
              "      <td>0</td>\n",
              "      <td>0</td>\n",
              "      <td>1</td>\n",
              "      <td>0</td>\n",
              "    </tr>\n",
              "    <tr>\n",
              "      <th>4</th>\n",
              "      <td>4</td>\n",
              "      <td>https://m.media-amazon.com/images/M/MV5BOGI0Nz...</td>\n",
              "      <td>Asalu Em Jarigindhante</td>\n",
              "      <td>2020</td>\n",
              "      <td>10.0</td>\n",
              "      <td>drama</td>\n",
              "      <td>0</td>\n",
              "      <td>0</td>\n",
              "      <td>0</td>\n",
              "      <td>0</td>\n",
              "      <td>0</td>\n",
              "      <td>1</td>\n",
              "      <td>0</td>\n",
              "      <td>0</td>\n",
              "      <td>0</td>\n",
              "      <td>0</td>\n",
              "      <td>0</td>\n",
              "      <td>0</td>\n",
              "      <td>0</td>\n",
              "    </tr>\n",
              "    <tr>\n",
              "      <th>...</th>\n",
              "      <td>...</td>\n",
              "      <td>...</td>\n",
              "      <td>...</td>\n",
              "      <td>...</td>\n",
              "      <td>...</td>\n",
              "      <td>...</td>\n",
              "      <td>...</td>\n",
              "      <td>...</td>\n",
              "      <td>...</td>\n",
              "      <td>...</td>\n",
              "      <td>...</td>\n",
              "      <td>...</td>\n",
              "      <td>...</td>\n",
              "      <td>...</td>\n",
              "      <td>...</td>\n",
              "      <td>...</td>\n",
              "      <td>...</td>\n",
              "      <td>...</td>\n",
              "      <td>...</td>\n",
              "    </tr>\n",
              "    <tr>\n",
              "      <th>29995</th>\n",
              "      <td>30023</td>\n",
              "      <td>https://m.media-amazon.com/images/M/MV5BMTU1Nj...</td>\n",
              "      <td>A Mother's Nightmare</td>\n",
              "      <td>2012</td>\n",
              "      <td>6.0</td>\n",
              "      <td>crime, mystery, thriller</td>\n",
              "      <td>0</td>\n",
              "      <td>0</td>\n",
              "      <td>0</td>\n",
              "      <td>0</td>\n",
              "      <td>1</td>\n",
              "      <td>0</td>\n",
              "      <td>0</td>\n",
              "      <td>0</td>\n",
              "      <td>1</td>\n",
              "      <td>0</td>\n",
              "      <td>0</td>\n",
              "      <td>0</td>\n",
              "      <td>1</td>\n",
              "    </tr>\n",
              "    <tr>\n",
              "      <th>29996</th>\n",
              "      <td>30024</td>\n",
              "      <td>https://m.media-amazon.com/images/M/MV5BMTQ3Mz...</td>\n",
              "      <td>SheZow</td>\n",
              "      <td>2012</td>\n",
              "      <td>6.0</td>\n",
              "      <td>animation, action, adventure</td>\n",
              "      <td>1</td>\n",
              "      <td>1</td>\n",
              "      <td>1</td>\n",
              "      <td>0</td>\n",
              "      <td>0</td>\n",
              "      <td>0</td>\n",
              "      <td>0</td>\n",
              "      <td>0</td>\n",
              "      <td>0</td>\n",
              "      <td>0</td>\n",
              "      <td>0</td>\n",
              "      <td>0</td>\n",
              "      <td>0</td>\n",
              "    </tr>\n",
              "    <tr>\n",
              "      <th>29997</th>\n",
              "      <td>30025</td>\n",
              "      <td>https://m.media-amazon.com/images/M/MV5BNDNkN2...</td>\n",
              "      <td>The Seven Year Hitch</td>\n",
              "      <td>2012</td>\n",
              "      <td>6.0</td>\n",
              "      <td>comedy, romance</td>\n",
              "      <td>0</td>\n",
              "      <td>0</td>\n",
              "      <td>0</td>\n",
              "      <td>1</td>\n",
              "      <td>0</td>\n",
              "      <td>0</td>\n",
              "      <td>0</td>\n",
              "      <td>0</td>\n",
              "      <td>0</td>\n",
              "      <td>1</td>\n",
              "      <td>0</td>\n",
              "      <td>0</td>\n",
              "      <td>0</td>\n",
              "    </tr>\n",
              "    <tr>\n",
              "      <th>29998</th>\n",
              "      <td>30026</td>\n",
              "      <td>https://m.media-amazon.com/images/M/MV5BNjg5ZD...</td>\n",
              "      <td>Onii-chan Dakedo Ai Sae Areba Kankei Nai yo ne-</td>\n",
              "      <td>2012</td>\n",
              "      <td>6.0</td>\n",
              "      <td>animation</td>\n",
              "      <td>0</td>\n",
              "      <td>0</td>\n",
              "      <td>1</td>\n",
              "      <td>0</td>\n",
              "      <td>0</td>\n",
              "      <td>0</td>\n",
              "      <td>0</td>\n",
              "      <td>0</td>\n",
              "      <td>0</td>\n",
              "      <td>0</td>\n",
              "      <td>0</td>\n",
              "      <td>0</td>\n",
              "      <td>0</td>\n",
              "    </tr>\n",
              "    <tr>\n",
              "      <th>29999</th>\n",
              "      <td>30027</td>\n",
              "      <td>https://m.media-amazon.com/images/M/MV5BODc4ND...</td>\n",
              "      <td>Space Milkshake</td>\n",
              "      <td>2012</td>\n",
              "      <td>6.0</td>\n",
              "      <td>comedy, sci-fi</td>\n",
              "      <td>0</td>\n",
              "      <td>0</td>\n",
              "      <td>0</td>\n",
              "      <td>1</td>\n",
              "      <td>0</td>\n",
              "      <td>0</td>\n",
              "      <td>0</td>\n",
              "      <td>0</td>\n",
              "      <td>0</td>\n",
              "      <td>0</td>\n",
              "      <td>1</td>\n",
              "      <td>0</td>\n",
              "      <td>0</td>\n",
              "    </tr>\n",
              "  </tbody>\n",
              "</table>\n",
              "<p>30000 rows × 19 columns</p>\n",
              "</div>"
            ],
            "text/plain": [
              "          id  ... thriller\n",
              "0          0  ...        0\n",
              "1          1  ...        0\n",
              "2          2  ...        0\n",
              "3          3  ...        0\n",
              "4          4  ...        0\n",
              "...      ...  ...      ...\n",
              "29995  30023  ...        1\n",
              "29996  30024  ...        0\n",
              "29997  30025  ...        0\n",
              "29998  30026  ...        0\n",
              "29999  30027  ...        0\n",
              "\n",
              "[30000 rows x 19 columns]"
            ]
          },
          "metadata": {
            "tags": []
          },
          "execution_count": 13
        }
      ]
    },
    {
      "cell_type": "code",
      "metadata": {
        "id": "sJzOSeUWGz-V",
        "colab": {
          "base_uri": "https://localhost:8080/"
        },
        "outputId": "b1cb1bf6-d58e-41ae-aff0-d48254a5dab8"
      },
      "source": [
        "pic_width = 224\n",
        "pic_height = 224\n",
        "x_posters = []\n",
        "#X_test = []\n",
        "for i in tqdm(range(10,15)):\n",
        "  path = '/content/drive/MyDrive/Final Project/img_41K/'+ str(data['id'][i]) +'.jpg'\n",
        "  img = image.load_img(path, target_size=(pic_width,pic_height,3))\n",
        "  img = image.img_to_array(img)\n",
        "  img = img/255.0\n",
        "  x_posters.append(img)"
      ],
      "execution_count": 14,
      "outputs": [
        {
          "output_type": "stream",
          "text": [
            "100%|██████████| 5/5 [00:00<00:00, 155.90it/s]\n"
          ],
          "name": "stderr"
        }
      ]
    },
    {
      "cell_type": "code",
      "metadata": {
        "id": "A55mXfRlG4jV"
      },
      "source": [
        "x_posters = np.array(x_posters)"
      ],
      "execution_count": 15,
      "outputs": []
    },
    {
      "cell_type": "code",
      "metadata": {
        "id": "oGCYFDA0G6wD",
        "colab": {
          "base_uri": "https://localhost:8080/",
          "height": 287
        },
        "outputId": "67080513-9850-4418-c991-d3a3645cc74e"
      },
      "source": [
        "plt.imshow(x_posters[1])\n",
        "data['genre'][1]"
      ],
      "execution_count": 16,
      "outputs": [
        {
          "output_type": "execute_result",
          "data": {
            "application/vnd.google.colaboratory.intrinsic+json": {
              "type": "string"
            },
            "text/plain": [
              "'horror'"
            ]
          },
          "metadata": {
            "tags": []
          },
          "execution_count": 16
        },
        {
          "output_type": "display_data",
          "data": {
            "image/png": "[encoded data removed]",
            "text/plain": [
              "<Figure size 432x288 with 1 Axes>"
            ]
          },
          "metadata": {
            "tags": [],
            "needs_background": "light"
          }
        }
      ]
    },
    {
      "cell_type": "code",
      "metadata": {
        "id": "LEzY1DTSG9JN"
      },
      "source": [
        "callback = tf.keras.callbacks.EarlyStopping(monitor='val_loss', mode='min')\n",
        "poster_model = Sequential()\n",
        "poster_model.add(Conv2D(16, (3,3), activation='relu', input_shape = x_posters[0].shape))\n",
        "poster_model.add(BatchNormalization())\n",
        "poster_model.add(MaxPool2D(2,2))\n",
        "poster_model.add(Dropout(0.1))\n",
        "\n",
        "poster_model.add(Conv2D(32, (3,3), activation='relu'))\n",
        "poster_model.add(BatchNormalization())\n",
        "poster_model.add(MaxPool2D(2,2))\n",
        "\n",
        "\n",
        "poster_model.add(Conv2D(64, (3,3), activation='relu'))\n",
        "poster_model.add(BatchNormalization())\n",
        "poster_model.add(MaxPool2D(2,2))\n",
        "poster_model.add(Dropout(0.2))\n",
        "\n",
        "poster_model.add(Conv2D(128, (3,3), activation='relu'))\n",
        "poster_model.add(BatchNormalization())\n",
        "poster_model.add(MaxPool2D(2,2))\n",
        "\n",
        "\n",
        "poster_model.add(Flatten())\n",
        "\n",
        "poster_model.add(Dense(128, activation='relu'))\n",
        "poster_model.add(BatchNormalization())\n",
        "\n",
        "\n",
        "poster_model.add(Dense(128, activation='relu'))\n",
        "poster_model.add(BatchNormalization())\n",
        "\n",
        "poster_model.add(Dense(512, activation='relu'))\n",
        "\n",
        "poster_model.add(Dense(13, activation='sigmoid'))"
      ],
      "execution_count": 17,
      "outputs": []
    },
    {
      "cell_type": "code",
      "metadata": {
        "id": "2bGxwHm0G_1O",
        "colab": {
          "base_uri": "https://localhost:8080/"
        },
        "outputId": "386fec17-134d-4a7f-e7c6-a3aeda573cfb"
      },
      "source": [
        "for idx in range(len(poster_model.layers)):\n",
        "  print(poster_model.get_layer(index = idx).name)"
      ],
      "execution_count": 18,
      "outputs": [
        {
          "output_type": "stream",
          "text": [
            "conv2d\n",
            "batch_normalization\n",
            "max_pooling2d\n",
            "dropout\n",
            "conv2d_1\n",
            "batch_normalization_1\n",
            "max_pooling2d_1\n",
            "conv2d_2\n",
            "batch_normalization_2\n",
            "max_pooling2d_2\n",
            "dropout_1\n",
            "conv2d_3\n",
            "batch_normalization_3\n",
            "max_pooling2d_3\n",
            "flatten\n",
            "dense_2\n",
            "batch_normalization_4\n",
            "dense_3\n",
            "batch_normalization_5\n",
            "dense_4\n",
            "dense_5\n"
          ],
          "name": "stdout"
        }
      ]
    },
    {
      "cell_type": "code",
      "metadata": {
        "id": "LyyWCEzkHC_L",
        "colab": {
          "base_uri": "https://localhost:8080/"
        },
        "outputId": "ae9d8955-c229-4354-ef2e-88b8d8c592be"
      },
      "source": [
        "from tensorflow import keras\n",
        "from tensorflow.keras import layers\n",
        "\n",
        "layer_name = 'dense_4'\n",
        "intermediate_layer_model = keras.Model(inputs=poster_model.input,\n",
        "                                       outputs=poster_model.get_layer(layer_name).output)\n",
        "intermediate_output = intermediate_layer_model(x_posters)\n",
        "print(intermediate_output)"
      ],
      "execution_count": 19,
      "outputs": [
        {
          "output_type": "stream",
          "text": [
            "tf.Tensor(\n",
            "[[6.2702834e-03 1.9381497e-02 5.8781105e-04 ... 2.5501503e-03\n",
            "  0.0000000e+00 3.4513087e-03]\n",
            " [4.8701957e-04 4.1939382e-02 0.0000000e+00 ... 3.1834531e-03\n",
            "  0.0000000e+00 1.6026037e-02]\n",
            " [3.4108488e-03 4.1003712e-02 0.0000000e+00 ... 1.3501125e-02\n",
            "  0.0000000e+00 2.0005519e-02]\n",
            " [5.6837736e-05 1.9507889e-02 0.0000000e+00 ... 0.0000000e+00\n",
            "  0.0000000e+00 8.1501249e-03]\n",
            " [0.0000000e+00 3.6436226e-02 0.0000000e+00 ... 4.2089615e-03\n",
            "  0.0000000e+00 2.9953856e-03]], shape=(5, 512), dtype=float32)\n"
          ],
          "name": "stdout"
        }
      ]
    },
    {
      "cell_type": "code",
      "metadata": {
        "id": "pwht3yF_HGeK"
      },
      "source": [
        "poster_array = intermediate_output.numpy()\n",
        "#print(poster_array[0])"
      ],
      "execution_count": 20,
      "outputs": []
    },
    {
      "cell_type": "markdown",
      "metadata": {
        "id": "mmyXp64_noap"
      },
      "source": [
        "Array to csv Portion\n"
      ]
    },
    {
      "cell_type": "code",
      "metadata": {
        "id": "eInglhR0nwgg",
        "colab": {
          "base_uri": "https://localhost:8080/",
          "height": 17
        },
        "outputId": "a7bc296b-b2c3-41c4-ec5b-7785fe4c19cc"
      },
      "source": [
        "from google.colab import files\n",
        "import csv\n",
        "\n",
        "with open('intermediates_1.csv','w',newline='') as f:\n",
        "    fieldnames = ['plot', 'poster','action', 'adventure', 'animation', 'comedy', 'crime', 'drama', 'fantasy', 'horror',\n",
        "                  'mystery', 'romance', 'sci-fi', 'short', 'thriller']\n",
        "    thewriter = csv.DictWriter(f,fieldnames=fieldnames)\n",
        "    thewriter.writeheader()\n",
        "    for i in range(0,5):\n",
        "      thewriter.writerow({'plot' : plot_array[i], 'poster' : poster_array[i],'action' : truncat.values[i][6],\n",
        "                'adventure' : truncat.values[i][7], 'animation' : truncat.values[i][8], 'comedy' : truncat.values[i][9],\n",
        "                'crime' : truncat.values[i][10], 'drama' : truncat.values[i][11], 'fantasy' : truncat.values[i][12],  'horror' : truncat.values[i][13],\n",
        "                'mystery' : truncat.values[i][14], 'romance' : truncat.values[i][15], 'sci-fi' : truncat.values[i][16], 'short' : truncat.values[i][17], \n",
        "                'thriller' : truncat.values[i][18]}) \n",
        "files.download(\"intermediates_1.csv\")"
      ],
      "execution_count": 21,
      "outputs": [
        {
          "output_type": "display_data",
          "data": {
            "application/javascript": [
              "\n",
              "    async function download(id, filename, size) {\n",
              "      if (!google.colab.kernel.accessAllowed) {\n",
              "        return;\n",
              "      }\n",
              "      const div = document.createElement('div');\n",
              "      const label = document.createElement('label');\n",
              "      label.textContent = `Downloading \"${filename}\": `;\n",
              "      div.appendChild(label);\n",
              "      const progress = document.createElement('progress');\n",
              "      progress.max = size;\n",
              "      div.appendChild(progress);\n",
              "      document.body.appendChild(div);\n",
              "\n",
              "      const buffers = [];\n",
              "      let downloaded = 0;\n",
              "\n",
              "      const channel = await google.colab.kernel.comms.open(id);\n",
              "      // Send a message to notify the kernel that we're ready.\n",
              "      channel.send({})\n",
              "\n",
              "      for await (const message of channel.messages) {\n",
              "        // Send a message to notify the kernel that we're ready.\n",
              "        channel.send({})\n",
              "        if (message.buffers) {\n",
              "          for (const buffer of message.buffers) {\n",
              "            buffers.push(buffer);\n",
              "            downloaded += buffer.byteLength;\n",
              "            progress.value = downloaded;\n",
              "          }\n",
              "        }\n",
              "      }\n",
              "      const blob = new Blob(buffers, {type: 'application/binary'});\n",
              "      const a = document.createElement('a');\n",
              "      a.href = window.URL.createObjectURL(blob);\n",
              "      a.download = filename;\n",
              "      div.appendChild(a);\n",
              "      a.click();\n",
              "      div.remove();\n",
              "    }\n",
              "  "
            ],
            "text/plain": [
              "<IPython.core.display.Javascript object>"
            ]
          },
          "metadata": {
            "tags": []
          }
        },
        {
          "output_type": "display_data",
          "data": {
            "application/javascript": [
              "download(\"download_4e791e42-84c2-434b-81a2-4d401cb36dc3\", \"intermediates_1.csv\", 69740)"
            ],
            "text/plain": [
              "<IPython.core.display.Javascript object>"
            ]
          },
          "metadata": {
            "tags": []
          }
        }
      ]
    },
    {
      "cell_type": "code",
      "metadata": {
        "id": "3mnYKgy_gbxI"
      },
      "source": [
        "from keras.layers import concatenate\n",
        "\n",
        "combined = concatenate([plot_array, poster_array])"
      ],
      "execution_count": 22,
      "outputs": []
    }
  ]
}