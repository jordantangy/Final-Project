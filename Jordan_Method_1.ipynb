{
  "nbformat": 4,
  "nbformat_minor": 0,
  "metadata": {
    "colab": {
      "name": "Jordan_Method_1.ipynb",
      "provenance": [],
      "collapsed_sections": [],
      "authorship_tag": "ABX9TyMnJp8CZwaPbQNrbPUe+9Sw",
      "include_colab_link": true
    },
    "kernelspec": {
      "name": "python3",
      "display_name": "Python 3"
    },
    "language_info": {
      "name": "python"
    }
  },
  "cells": [
    {
      "cell_type": "markdown",
      "metadata": {
        "id": "view-in-github",
        "colab_type": "text"
      },
      "source": [
        "<a href=\"https://colab.research.google.com/github/jordantangy/Final-Project/blob/main/Jordan_Method_1.ipynb\" target=\"_parent\"><img src=\"https://colab.research.google.com/assets/colab-badge.svg\" alt=\"Open In Colab\"/></a>"
      ]
    },
    {
      "cell_type": "code",
      "metadata": {
        "id": "eZttSqCxIqXs"
      },
      "source": [
        "!pip install tensorflow"
      ],
      "execution_count": null,
      "outputs": []
    },
    {
      "cell_type": "code",
      "metadata": {
        "colab": {
          "base_uri": "https://localhost:8080/"
        },
        "id": "56Libkq0IrDw",
        "outputId": "5c1cebef-5f51-4f64-fe5c-8d632cfe55e9"
      },
      "source": [
        "from google.colab import drive\n",
        "drive.mount('/content/drive',force_remount=False)"
      ],
      "execution_count": 2,
      "outputs": [
        {
          "output_type": "stream",
          "text": [
            "Drive already mounted at /content/drive; to attempt to forcibly remount, call drive.mount(\"/content/drive\", force_remount=True).\n"
          ],
          "name": "stdout"
        }
      ]
    },
    {
      "cell_type": "code",
      "metadata": {
        "colab": {
          "base_uri": "https://localhost:8080/"
        },
        "id": "pAEk55K7JEAs",
        "outputId": "c34dee64-a106-42ed-a06a-0c54b4aa60a7"
      },
      "source": [
        "!unzip /content/drive/MyDrive/FinalProject/img_41K_edited.zip #/content/drive/MyDrive/Final Project/img_41K_edited.zip"
      ],
      "execution_count": 13,
      "outputs": [
        {
          "output_type": "stream",
          "text": [
            "Archive:  /content/drive/MyDrive/FinalProject/img_41K_edited.zip\n",
            "replace img_41K/0.jpg? [y]es, [n]o, [A]ll, [N]one, [r]ename: "
          ],
          "name": "stdout"
        }
      ]
    },
    {
      "cell_type": "code",
      "metadata": {
        "id": "tjcSKIpRKLBy",
        "colab": {
          "base_uri": "https://localhost:8080/"
        },
        "outputId": "9f4375a0-e02d-43df-9d29-2f6e82ad7f24"
      },
      "source": [
        "import pandas as pd\n",
        "import numpy as np\n",
        "import csv\n",
        "\n",
        "data = pd.read_csv('drive/MyDrive/FinalProject/movie_plots_by_poster.csv')\n",
        "truncat = data[:32333]\n",
        "truncat.values[0][4]"
      ],
      "execution_count": 4,
      "outputs": [
        {
          "output_type": "execute_result",
          "data": {
            "text/plain": [
              "7.4"
            ]
          },
          "metadata": {
            "tags": []
          },
          "execution_count": 4
        }
      ]
    },
    {
      "cell_type": "markdown",
      "metadata": {
        "id": "ZLhMyiBgNmZz"
      },
      "source": [
        "Plot Model"
      ]
    },
    {
      "cell_type": "code",
      "metadata": {
        "id": "CTE2kwHKNoTD"
      },
      "source": [
        "import tensorflow_hub as hub\n",
        "import tensorflow as tf\n",
        "import torch\n",
        "\n",
        "plot_model = \"https://tfhub.dev/google/universal-sentence-encoder/4\"\n",
        "hub_layer = hub.KerasLayer(plot_model, input_shape=[], dtype=tf.string, trainable=True)"
      ],
      "execution_count": 5,
      "outputs": []
    },
    {
      "cell_type": "code",
      "metadata": {
        "id": "Gl9T9kfINv7q",
        "colab": {
          "base_uri": "https://localhost:8080/"
        },
        "outputId": "1afbfe5d-7a4f-4232-ac64-14f027c71da3"
      },
      "source": [
        "import numpy as np\n",
        "\n",
        "import tensorflow as tf\n",
        "import tensorflow_hub as hub\n",
        "import tensorflow_datasets as tfds\n",
        "\n",
        "import matplotlib.pyplot as plt\n",
        "\n",
        "print(\"Version: \", tf.__version__)\n",
        "print(\"Eager mode: \", tf.executing_eagerly())\n",
        "print(\"Hub version: \", hub.__version__)\n",
        "print(\"GPU is\", \"available\" if tf.config.list_physical_devices('GPU') else \"NOT AVAILABLE\")"
      ],
      "execution_count": 6,
      "outputs": [
        {
          "output_type": "stream",
          "text": [
            "Version:  2.5.0\n",
            "Eager mode:  True\n",
            "Hub version:  0.12.0\n",
            "GPU is NOT AVAILABLE\n"
          ],
          "name": "stdout"
        }
      ]
    },
    {
      "cell_type": "code",
      "metadata": {
        "id": "HQAZ-0gON28b"
      },
      "source": [
        "x_plots = truncat.drop(['id','poster','title','year','rating','genre','action','adventure','animation','comedy','crime','drama','fantasy','horror','mystery','romance','sci-fi','short','thriller'], axis = 1)\n",
        "x_plots = x_plots.to_numpy()"
      ],
      "execution_count": 7,
      "outputs": []
    },
    {
      "cell_type": "markdown",
      "metadata": {
        "id": "iBAyO0VKOQBU"
      },
      "source": [
        "CNN Model"
      ]
    },
    {
      "cell_type": "code",
      "metadata": {
        "id": "68nKZJ8XOUyH"
      },
      "source": [
        "import tensorflow as tf\n",
        "from tensorflow.keras import Sequential\n",
        "from tensorflow.keras.layers import Flatten, Dense, Dropout, BatchNormalization, Conv2D, MaxPool2D\n",
        "from tensorflow.keras.optimizers import Adam\n",
        "from tensorflow.keras.preprocessing import image\n",
        "import numpy as np\n",
        "import pandas as pd\n",
        "import matplotlib.pyplot as plt\n",
        "from sklearn.model_selection import train_test_split\n",
        "from tqdm import tqdm"
      ],
      "execution_count": 8,
      "outputs": []
    },
    {
      "cell_type": "code",
      "metadata": {
        "id": "2fLCsAxMPNeK",
        "colab": {
          "base_uri": "https://localhost:8080/"
        },
        "outputId": "66dc5f94-f116-4d97-857f-f22da45aa1f1"
      },
      "source": [
        "import drive\n",
        "import os.path\n",
        "\n",
        "pic_width = 224\n",
        "pic_height = 224\n",
        "x_posters_train = []\n",
        "x_posters_test = []\n",
        "for i in tqdm(range(int(truncat.shape[0]))):\n",
        "  if i > int(truncat.shape[0]*0.80)-1 :\n",
        "    path = '/content/drive/MyDrive/FinalProject/img_41K_edited/'+ str(data['id'][i]) +'.jpg'\n",
        "    if os.path.isfile(path):\n",
        "      print(i)\n",
        "      img = image.load_img(path, target_size=(pic_width,pic_height,3))\n",
        "      img = image.img_to_array(img)\n",
        "      img = img/255.0\n",
        "      x_posters_test.append(img)\n",
        "  else:\n",
        "    path = '/content/drive/MyDrive/FinalProject/img_41K_edited/'+ str(data['id'][i]) +'.jpg'\n",
        "    if os.path.isfile(path):\n",
        "      print(i)\n",
        "      img = image.load_img(path, target_size=(pic_width,pic_height,3))\n",
        "      img = image.img_to_array(img)\n",
        "      img = img/255.0\n",
        "      x_posters_train.append(img)"
      ],
      "execution_count": 9,
      "outputs": [
        {
          "output_type": "stream",
          "text": [
            "100%|██████████| 32333/32333 [00:05<00:00, 6300.24it/s]\n"
          ],
          "name": "stderr"
        }
      ]
    },
    {
      "cell_type": "markdown",
      "metadata": {
        "id": "_Wyb7xSoOPdA"
      },
      "source": [
        ""
      ]
    },
    {
      "cell_type": "code",
      "metadata": {
        "id": "qLwAmOQyRM5e"
      },
      "source": [
        "x_posters_train = np.array(x_posters_train)\n",
        "x_posters_test = np.array(x_posters_test)"
      ],
      "execution_count": 10,
      "outputs": []
    },
    {
      "cell_type": "code",
      "metadata": {
        "colab": {
          "base_uri": "https://localhost:8080/"
        },
        "id": "Eo9tpUGJSdOP",
        "outputId": "e4315b9d-1fa2-4aea-f864-7b33d09252b9"
      },
      "source": [
        "print(x_posters_test.size)"
      ],
      "execution_count": 11,
      "outputs": [
        {
          "output_type": "stream",
          "text": [
            "0\n"
          ],
          "name": "stdout"
        }
      ]
    },
    {
      "cell_type": "code",
      "metadata": {
        "colab": {
          "base_uri": "https://localhost:8080/",
          "height": 178
        },
        "id": "3HzmTbObRiCC",
        "outputId": "c276c64d-2520-47f5-ea29-2f83722025aa"
      },
      "source": [
        "plt.imshow(x_posters_train[5475])\n",
        "data['genre'][5475]"
      ],
      "execution_count": 12,
      "outputs": [
        {
          "output_type": "error",
          "ename": "IndexError",
          "evalue": "ignored",
          "traceback": [
            "\u001b[0;31m---------------------------------------------------------------------------\u001b[0m",
            "\u001b[0;31mIndexError\u001b[0m                                Traceback (most recent call last)",
            "\u001b[0;32m<ipython-input-12-3d270633f45a>\u001b[0m in \u001b[0;36m<module>\u001b[0;34m()\u001b[0m\n\u001b[0;32m----> 1\u001b[0;31m \u001b[0mplt\u001b[0m\u001b[0;34m.\u001b[0m\u001b[0mimshow\u001b[0m\u001b[0;34m(\u001b[0m\u001b[0mx_posters_train\u001b[0m\u001b[0;34m[\u001b[0m\u001b[0;36m5475\u001b[0m\u001b[0;34m]\u001b[0m\u001b[0;34m)\u001b[0m\u001b[0;34m\u001b[0m\u001b[0;34m\u001b[0m\u001b[0m\n\u001b[0m\u001b[1;32m      2\u001b[0m \u001b[0mdata\u001b[0m\u001b[0;34m[\u001b[0m\u001b[0;34m'genre'\u001b[0m\u001b[0;34m]\u001b[0m\u001b[0;34m[\u001b[0m\u001b[0;36m5475\u001b[0m\u001b[0;34m]\u001b[0m\u001b[0;34m\u001b[0m\u001b[0;34m\u001b[0m\u001b[0m\n",
            "\u001b[0;31mIndexError\u001b[0m: index 5475 is out of bounds for axis 0 with size 0"
          ]
        }
      ]
    }
  ]
}